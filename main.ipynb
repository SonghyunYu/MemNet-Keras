{
 "cells": [
  {
   "cell_type": "code",
   "execution_count": null,
   "metadata": {
    "scrolled": true
   },
   "outputs": [],
   "source": [
    "# Training MemNet\n",
    "import MemNet as mn\n",
    "memnet = mn.MemNet() \n",
    "\n",
    "#first training\n",
    "memnet.train_G(end_ep=10, batch_size=16, sample_interval=100)\n",
    "\n",
    "#second training\n",
    "#memnet.train_G(end_ep=10, batch_size=16, sample_interval=1000,second_training=True, start_ep=3) "
   ]
  },
  {
   "cell_type": "code",
   "execution_count": null,
   "metadata": {},
   "outputs": [],
   "source": [
    "# TEST\n",
    "import MemNet as mn\n",
    "DATASET_NAME = \"LIVE1\"\n",
    "\n",
    "model_name = './saved_model/MemNet_q10/MemNet_29.55dB_4ep_40000it_.h5'\n",
    "Test_DATA_PATH0 =  \"./data/test/LIVE1/original\"\n",
    "Test_DATA_PATH1 =  \"./data/test/LIVE1/jpg_q10\"\n",
    "Output_PATH = \"./results/LIVE1/jpg_q10\"\n",
    "\n",
    "mn.image_test(model_name,Test_DATA_PATH0,Test_DATA_PATH1,Output_PATH)\n"
   ]
  },
  {
   "cell_type": "code",
   "execution_count": null,
   "metadata": {},
   "outputs": [],
   "source": [
    "##############################################################################################################################"
   ]
  },
  {
   "cell_type": "code",
   "execution_count": null,
   "metadata": {},
   "outputs": [],
   "source": []
  }
 ],
 "metadata": {
  "kernelspec": {
   "display_name": "Python 3",
   "language": "python",
   "name": "python3"
  },
  "language_info": {
   "codemirror_mode": {
    "name": "ipython",
    "version": 3
   },
   "file_extension": ".py",
   "mimetype": "text/x-python",
   "name": "python",
   "nbconvert_exporter": "python",
   "pygments_lexer": "ipython3",
   "version": "3.5.4"
  }
 },
 "nbformat": 4,
 "nbformat_minor": 2
}
